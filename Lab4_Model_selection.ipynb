{
 "cells": [
  {
   "cell_type": "markdown",
   "metadata": {},
   "source": [
    "# Laboratorio 4 - Model Selection\n",
    "## Product Development - Ing. Preng Biba\n",
    "### Alumno: Hugo Brian Bay Rojas - Carnet 20002544"
   ]
  },
  {
   "cell_type": "code",
   "execution_count": 54,
   "metadata": {},
   "outputs": [],
   "source": [
    "import pandas as pd\n",
    "import numpy as np\n",
    "\n",
    "import matplotlib.pyplot as plt\n",
    "\n",
    "from sklearn.model_selection import GridSearchCV\n",
    "\n",
    "from sklearn.linear_model import LogisticRegression\n",
    "from sklearn.naive_bayes import GaussianNB\n",
    "from sklearn.svm import SVC\n",
    "from sklearn.neighbors import KNeighborsClassifier\n",
    "from sklearn.discriminant_analysis import LinearDiscriminantAnalysis\n",
    "from sklearn.ensemble import RandomForestClassifier\n",
    "\n",
    "#Metricas\n",
    "from sklearn.metrics import accuracy_score\n",
    "from sklearn.preprocessing import StandardScaler\n",
    "from sklearn.metrics import roc_auc_score\n",
    "\n",
    "import scipy.stats as stats\n",
    "\n",
    "import joblib"
   ]
  },
  {
   "cell_type": "code",
   "execution_count": 55,
   "metadata": {},
   "outputs": [],
   "source": [
    "X_train = pd.read_csv(\"preprocessed_data/prep_Xtrain.csv\")\n",
    "X_test = pd.read_csv(\"preprocessed_data/prep_Xtest.csv\")"
   ]
  },
  {
   "cell_type": "code",
   "execution_count": 56,
   "metadata": {},
   "outputs": [],
   "source": [
    "y_train = pd.read_csv(\"preprocessed_data/prep_ytrain.csv\")\n",
    "y_test = pd.read_csv(\"preprocessed_data/prep_ytest.csv\")"
   ]
  },
  {
   "cell_type": "code",
   "execution_count": 57,
   "metadata": {},
   "outputs": [],
   "source": [
    "y_train = y_train.iloc[:, 0]\n",
    "y_test = y_test.iloc[:,0]"
   ]
  },
  {
   "cell_type": "markdown",
   "metadata": {},
   "source": [
    "## Entrenamiento de modelos"
   ]
  },
  {
   "cell_type": "markdown",
   "metadata": {},
   "source": [
    "### 1. Regresión logística"
   ]
  },
  {
   "cell_type": "code",
   "execution_count": 58,
   "metadata": {},
   "outputs": [
    {
     "name": "stdout",
     "output_type": "stream",
     "text": [
      "ROC_AUC: 0.7127110694183865 ACC: 0.7388\n"
     ]
    }
   ],
   "source": [
    "logit = LogisticRegression().fit(X_train, y_train)\n",
    "predicts_log = logit.predict(X_test)\n",
    "auc = roc_auc_score(y_test, predicts_log)\n",
    "acc = round(accuracy_score(y_test, predicts_log), 4)\n",
    "print(\"ROC_AUC: \" + str(auc) + \" ACC: \" + str(acc))"
   ]
  },
  {
   "cell_type": "markdown",
   "metadata": {},
   "source": [
    "### 2. Naive Bayes"
   ]
  },
  {
   "cell_type": "code",
   "execution_count": 59,
   "metadata": {},
   "outputs": [
    {
     "name": "stdout",
     "output_type": "stream",
     "text": [
      "ROC_AUC: 0.6841 ACC: 0.6866\n"
     ]
    }
   ],
   "source": [
    "nb = GaussianNB().fit(X_train, y_train)\n",
    "predicts_nb = nb.predict(X_test)\n",
    "auc = round(roc_auc_score(y_test, predicts_nb), 4)\n",
    "acc = round(accuracy_score(y_test, predicts_nb), 4)\n",
    "print(\"ROC_AUC: \" + str(auc) + \" ACC: \" + str(acc)) "
   ]
  },
  {
   "cell_type": "markdown",
   "metadata": {},
   "source": [
    "### 3. KNN"
   ]
  },
  {
   "cell_type": "code",
   "execution_count": 60,
   "metadata": {},
   "outputs": [
    {
     "data": {
      "text/html": [
       "<div>\n",
       "<style scoped>\n",
       "    .dataframe tbody tr th:only-of-type {\n",
       "        vertical-align: middle;\n",
       "    }\n",
       "\n",
       "    .dataframe tbody tr th {\n",
       "        vertical-align: top;\n",
       "    }\n",
       "\n",
       "    .dataframe thead th {\n",
       "        text-align: right;\n",
       "    }\n",
       "</style>\n",
       "<table border=\"1\" class=\"dataframe\">\n",
       "  <thead>\n",
       "    <tr style=\"text-align: right;\">\n",
       "      <th></th>\n",
       "      <th>rank_test_score</th>\n",
       "      <th>params</th>\n",
       "      <th>mean_test_score</th>\n",
       "    </tr>\n",
       "  </thead>\n",
       "  <tbody>\n",
       "    <tr>\n",
       "      <th>4</th>\n",
       "      <td>1</td>\n",
       "      <td>{'n_neighbors': 13}</td>\n",
       "      <td>0.871580</td>\n",
       "    </tr>\n",
       "    <tr>\n",
       "      <th>3</th>\n",
       "      <td>2</td>\n",
       "      <td>{'n_neighbors': 11}</td>\n",
       "      <td>0.869343</td>\n",
       "    </tr>\n",
       "    <tr>\n",
       "      <th>2</th>\n",
       "      <td>3</td>\n",
       "      <td>{'n_neighbors': 7}</td>\n",
       "      <td>0.864149</td>\n",
       "    </tr>\n",
       "    <tr>\n",
       "      <th>1</th>\n",
       "      <td>4</td>\n",
       "      <td>{'n_neighbors': 5}</td>\n",
       "      <td>0.855953</td>\n",
       "    </tr>\n",
       "    <tr>\n",
       "      <th>0</th>\n",
       "      <td>5</td>\n",
       "      <td>{'n_neighbors': 2}</td>\n",
       "      <td>0.814469</td>\n",
       "    </tr>\n",
       "  </tbody>\n",
       "</table>\n",
       "</div>"
      ],
      "text/plain": [
       "   rank_test_score               params  mean_test_score\n",
       "4                1  {'n_neighbors': 13}         0.871580\n",
       "3                2  {'n_neighbors': 11}         0.869343\n",
       "2                3   {'n_neighbors': 7}         0.864149\n",
       "1                4   {'n_neighbors': 5}         0.855953\n",
       "0                5   {'n_neighbors': 2}         0.814469"
      ]
     },
     "execution_count": 60,
     "metadata": {},
     "output_type": "execute_result"
    }
   ],
   "source": [
    "clf_knn = GridSearchCV(KNeighborsClassifier(), {'n_neighbors':[2,5,7,11,13]}, cv=10, scoring='roc_auc').fit(X_train, y_train)\n",
    "KNNResults = pd.DataFrame(clf_knn.cv_results_)\n",
    "KNNResults.sort_values(\"rank_test_score\", ascending=True)[['rank_test_score', 'params', 'mean_test_score']]"
   ]
  },
  {
   "cell_type": "code",
   "execution_count": 61,
   "metadata": {},
   "outputs": [
    {
     "name": "stdout",
     "output_type": "stream",
     "text": [
      "ROC_AUC: 0.69 ACC: 0.7239\n"
     ]
    }
   ],
   "source": [
    "knn = KNeighborsClassifier(n_neighbors=13).fit(X_train, y_train)\n",
    "predicts_knn = knn.predict(X_test)\n",
    "auc = round(roc_auc_score(y_test, predicts_knn), 4)\n",
    "acc = round(accuracy_score(y_test, predicts_knn), 4)\n",
    "print(\"ROC_AUC: \" + str(auc) + \" ACC: \" + str(acc))"
   ]
  },
  {
   "cell_type": "markdown",
   "metadata": {},
   "source": [
    "### 4. SVM"
   ]
  },
  {
   "cell_type": "code",
   "execution_count": 62,
   "metadata": {},
   "outputs": [
    {
     "data": {
      "text/html": [
       "<div>\n",
       "<style scoped>\n",
       "    .dataframe tbody tr th:only-of-type {\n",
       "        vertical-align: middle;\n",
       "    }\n",
       "\n",
       "    .dataframe tbody tr th {\n",
       "        vertical-align: top;\n",
       "    }\n",
       "\n",
       "    .dataframe thead th {\n",
       "        text-align: right;\n",
       "    }\n",
       "</style>\n",
       "<table border=\"1\" class=\"dataframe\">\n",
       "  <thead>\n",
       "    <tr style=\"text-align: right;\">\n",
       "      <th></th>\n",
       "      <th>rank_test_score</th>\n",
       "      <th>params</th>\n",
       "      <th>mean_test_score</th>\n",
       "    </tr>\n",
       "  </thead>\n",
       "  <tbody>\n",
       "    <tr>\n",
       "      <th>3</th>\n",
       "      <td>1</td>\n",
       "      <td>{'C': 3.0}</td>\n",
       "      <td>0.857080</td>\n",
       "    </tr>\n",
       "    <tr>\n",
       "      <th>2</th>\n",
       "      <td>2</td>\n",
       "      <td>{'C': 1.5}</td>\n",
       "      <td>0.851703</td>\n",
       "    </tr>\n",
       "    <tr>\n",
       "      <th>0</th>\n",
       "      <td>3</td>\n",
       "      <td>{'C': 0.5}</td>\n",
       "      <td>0.850140</td>\n",
       "    </tr>\n",
       "    <tr>\n",
       "      <th>1</th>\n",
       "      <td>4</td>\n",
       "      <td>{'C': 1.0}</td>\n",
       "      <td>0.844237</td>\n",
       "    </tr>\n",
       "  </tbody>\n",
       "</table>\n",
       "</div>"
      ],
      "text/plain": [
       "   rank_test_score      params  mean_test_score\n",
       "3                1  {'C': 3.0}         0.857080\n",
       "2                2  {'C': 1.5}         0.851703\n",
       "0                3  {'C': 0.5}         0.850140\n",
       "1                4  {'C': 1.0}         0.844237"
      ]
     },
     "execution_count": 62,
     "metadata": {},
     "output_type": "execute_result"
    }
   ],
   "source": [
    "clf_svm = GridSearchCV(SVC(kernel='linear'), {'C':[0.5, 1.0, 1.5, 3.0]}, cv=10, scoring='roc_auc').fit(X_train, y_train)\n",
    "SVMResults = pd.DataFrame(clf_svm.cv_results_)\n",
    "SVMResults.sort_values(\"rank_test_score\", ascending=True)[['rank_test_score', 'params', 'mean_test_score']]"
   ]
  },
  {
   "cell_type": "code",
   "execution_count": 63,
   "metadata": {},
   "outputs": [
    {
     "name": "stdout",
     "output_type": "stream",
     "text": [
      "ROC_AUC: 0.6848 ACC: 0.709\n"
     ]
    }
   ],
   "source": [
    "svm = SVC(kernel='linear', C=3.0).fit(X_train, y_train)\n",
    "predicts_svm = svm.predict(X_test)\n",
    "auc = round(roc_auc_score(y_test, predicts_svm), 4)\n",
    "acc = round(accuracy_score(y_test, predicts_svm), 4)\n",
    "print(\"ROC_AUC: \" + str(auc) + \" ACC: \" + str(acc))"
   ]
  },
  {
   "cell_type": "markdown",
   "metadata": {},
   "source": [
    "### 5. LDA"
   ]
  },
  {
   "cell_type": "code",
   "execution_count": 64,
   "metadata": {},
   "outputs": [
    {
     "name": "stdout",
     "output_type": "stream",
     "text": [
      "ROC_AUC: 0.7127 ACC: 0.7388\n"
     ]
    }
   ],
   "source": [
    "lda = LinearDiscriminantAnalysis(solver=\"svd\", store_covariance=True).fit(X_train, y_train)\n",
    "predicts_lda = lda.predict(X_test)\n",
    "auc = round(roc_auc_score(y_test, predicts_lda), 4)\n",
    "acc = round(accuracy_score(y_test, predicts_lda), 4)\n",
    "print(\"ROC_AUC: \" + str(auc) + \" ACC: \" + str(acc))"
   ]
  },
  {
   "cell_type": "markdown",
   "metadata": {},
   "source": [
    "### Random Forest"
   ]
  },
  {
   "cell_type": "code",
   "execution_count": 65,
   "metadata": {},
   "outputs": [
    {
     "data": {
      "text/html": [
       "<div>\n",
       "<style scoped>\n",
       "    .dataframe tbody tr th:only-of-type {\n",
       "        vertical-align: middle;\n",
       "    }\n",
       "\n",
       "    .dataframe tbody tr th {\n",
       "        vertical-align: top;\n",
       "    }\n",
       "\n",
       "    .dataframe thead th {\n",
       "        text-align: right;\n",
       "    }\n",
       "</style>\n",
       "<table border=\"1\" class=\"dataframe\">\n",
       "  <thead>\n",
       "    <tr style=\"text-align: right;\">\n",
       "      <th></th>\n",
       "      <th>rank_test_score</th>\n",
       "      <th>params</th>\n",
       "      <th>mean_test_score</th>\n",
       "    </tr>\n",
       "  </thead>\n",
       "  <tbody>\n",
       "    <tr>\n",
       "      <th>2</th>\n",
       "      <td>1</td>\n",
       "      <td>{'n_estimators': 100}</td>\n",
       "      <td>0.881074</td>\n",
       "    </tr>\n",
       "    <tr>\n",
       "      <th>1</th>\n",
       "      <td>2</td>\n",
       "      <td>{'n_estimators': 50}</td>\n",
       "      <td>0.880886</td>\n",
       "    </tr>\n",
       "    <tr>\n",
       "      <th>4</th>\n",
       "      <td>3</td>\n",
       "      <td>{'n_estimators': 800}</td>\n",
       "      <td>0.880123</td>\n",
       "    </tr>\n",
       "    <tr>\n",
       "      <th>5</th>\n",
       "      <td>4</td>\n",
       "      <td>{'n_estimators': 1000}</td>\n",
       "      <td>0.880012</td>\n",
       "    </tr>\n",
       "    <tr>\n",
       "      <th>3</th>\n",
       "      <td>5</td>\n",
       "      <td>{'n_estimators': 500}</td>\n",
       "      <td>0.878420</td>\n",
       "    </tr>\n",
       "    <tr>\n",
       "      <th>0</th>\n",
       "      <td>6</td>\n",
       "      <td>{'n_estimators': 10}</td>\n",
       "      <td>0.859494</td>\n",
       "    </tr>\n",
       "  </tbody>\n",
       "</table>\n",
       "</div>"
      ],
      "text/plain": [
       "   rank_test_score                  params  mean_test_score\n",
       "2                1   {'n_estimators': 100}         0.881074\n",
       "1                2    {'n_estimators': 50}         0.880886\n",
       "4                3   {'n_estimators': 800}         0.880123\n",
       "5                4  {'n_estimators': 1000}         0.880012\n",
       "3                5   {'n_estimators': 500}         0.878420\n",
       "0                6    {'n_estimators': 10}         0.859494"
      ]
     },
     "execution_count": 65,
     "metadata": {},
     "output_type": "execute_result"
    }
   ],
   "source": [
    "clf_rf = GridSearchCV(RandomForestClassifier(), {'n_estimators':[10, 50, 100, 500, 800, 1000]}, cv=10, scoring='roc_auc').fit(X_train, y_train)\n",
    "RFResults = pd.DataFrame(clf_rf.cv_results_)\n",
    "RFResults.sort_values(\"rank_test_score\", ascending=True)[['rank_test_score', 'params', 'mean_test_score']]"
   ]
  },
  {
   "cell_type": "code",
   "execution_count": 66,
   "metadata": {},
   "outputs": [
    {
     "name": "stdout",
     "output_type": "stream",
     "text": [
      "ROC_AUC: 0.7329 ACC: 0.7463\n"
     ]
    }
   ],
   "source": [
    "rf = RandomForestClassifier(n_estimators=100).fit(X_train, y_train)\n",
    "predicts_rf = rf.predict(X_test)\n",
    "auc = round(roc_auc_score(y_test, predicts_rf), 4)\n",
    "acc = round(accuracy_score(y_test, predicts_rf), 4)\n",
    "print(\"ROC_AUC: \" + str(auc) + \" ACC: \" + str(acc))"
   ]
  },
  {
   "cell_type": "markdown",
   "metadata": {},
   "source": [
    "## Modelo Final"
   ]
  },
  {
   "cell_type": "markdown",
   "metadata": {},
   "source": [
    "El modelo con mejor desempeño es el random forest"
   ]
  },
  {
   "cell_type": "code",
   "execution_count": 67,
   "metadata": {},
   "outputs": [
    {
     "data": {
      "text/plain": [
       "['final_model/logit_titanic.joblib']"
      ]
     },
     "execution_count": 67,
     "metadata": {},
     "output_type": "execute_result"
    }
   ],
   "source": [
    "joblib.dump(rf, 'final_model/logit_titanic.joblib')"
   ]
  },
  {
   "cell_type": "code",
   "execution_count": null,
   "metadata": {},
   "outputs": [],
   "source": []
  }
 ],
 "metadata": {
  "kernelspec": {
   "display_name": "Python 3",
   "language": "python",
   "name": "python3"
  },
  "language_info": {
   "codemirror_mode": {
    "name": "ipython",
    "version": 3
   },
   "file_extension": ".py",
   "mimetype": "text/x-python",
   "name": "python",
   "nbconvert_exporter": "python",
   "pygments_lexer": "ipython3",
   "version": "3.8.5"
  }
 },
 "nbformat": 4,
 "nbformat_minor": 4
}
